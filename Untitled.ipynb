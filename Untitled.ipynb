{
  "nbformat": 4,
  "nbformat_minor": 5,
  "metadata": {
    "kernelspec": {
      "name": "python3",
      "display_name": "Python 3",
      "language": "python"
    },
    "language_info": {
      "name": "python",
      "version": "3.6.13",
      "mimetype": "text/x-python",
      "codemirror_mode": {
        "name": "ipython",
        "version": 3
      },
      "pygments_lexer": "ipython3",
      "nbconvert_exporter": "python",
      "file_extension": ".py"
    },
    "colab": {
      "name": "Untitled.ipynb",
      "provenance": [],
      "include_colab_link": true
    }
  },
  "cells": [
    {
      "cell_type": "markdown",
      "metadata": {
        "id": "view-in-github",
        "colab_type": "text"
      },
      "source": [
        "<a href=\"https://colab.research.google.com/github/wms2711/WMS-CC-Project/blob/main/Untitled.ipynb\" target=\"_parent\"><img src=\"https://colab.research.google.com/assets/colab-badge.svg\" alt=\"Open In Colab\"/></a>"
      ]
    },
    {
      "cell_type": "code",
      "metadata": {
        "trusted": true,
        "id": "1ZIB9mojos6V",
        "outputId": "8cbb10cd-44ff-4270-aa92-8435008815e9"
      },
      "source": [
        "# %%\n",
        "abc = \"Hello World\"\n",
        "print(abc)"
      ],
      "id": "1ZIB9mojos6V",
      "execution_count": null,
      "outputs": [
        {
          "output_type": "stream",
          "text": [
            "Hello World\n"
          ],
          "name": "stdout"
        }
      ]
    },
    {
      "cell_type": "markdown",
      "metadata": {
        "id": "No2P55Laos6Y"
      },
      "source": [
        "# Header 1\n",
        "* 123\n",
        "\n",
        "###### Header 6\n",
        "* __Bold__\n",
        "* _Italic_\n",
        "* ~~Strikethrough~~\n",
        "* Normal\n",
        "* [Link](https://code.visualstudio.com/docs/python/jupyter-support-py)\n",
        "* ![Google Image](https://www.google.com/url?sa=i&url=https%3A%2F%2Fdesign.google%2Flibrary%2Fevolving-google-identity%2F&psig=AOvVaw0c6x4cG-FRW9py_N2qKORB&ust=1625053208166000&source=images&cd=vfe&ved=0CAoQjRxqFwoTCJD2m4zhvPECFQAAAAAdAAAAABAD)\n",
        "* Block Codes \n",
        "> idk\n",
        "* Inline Codes\n",
        "`<addr>`\n",
        "* @mention"
      ],
      "id": "No2P55Laos6Y"
    },
    {
      "cell_type": "code",
      "metadata": {
        "trusted": true,
        "id": "feJzsxf5os6Z"
      },
      "source": [
        ""
      ],
      "id": "feJzsxf5os6Z",
      "execution_count": null,
      "outputs": []
    }
  ]
}